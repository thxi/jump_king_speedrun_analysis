{
 "cells": [
  {
   "cell_type": "code",
   "execution_count": 1,
   "id": "c462bc7a",
   "metadata": {
    "ExecuteTime": {
     "end_time": "2021-05-12T06:52:03.683210Z",
     "start_time": "2021-05-12T06:52:02.957289Z"
    }
   },
   "outputs": [],
   "source": [
    "import pandas as pd\n",
    "import numpy as np\n",
    "import matplotlib.pyplot as plt\n",
    "import seaborn as sns\n",
    "\n",
    "sns.set()\n",
    "\n",
    "sns.set_style(\"whitegrid\", {'axes.grid' : False})\n",
    "\n",
    "from tqdm.auto import tqdm"
   ]
  },
  {
   "cell_type": "code",
   "execution_count": 2,
   "id": "1530ab9d",
   "metadata": {
    "ExecuteTime": {
     "end_time": "2021-05-12T06:52:03.699996Z",
     "start_time": "2021-05-12T06:52:03.684387Z"
    }
   },
   "outputs": [],
   "source": [
    "%load_ext autoreload\n",
    "%autoreload 2"
   ]
  },
  {
   "cell_type": "code",
   "execution_count": 3,
   "id": "261cc434",
   "metadata": {
    "ExecuteTime": {
     "end_time": "2021-05-12T06:52:03.729242Z",
     "start_time": "2021-05-12T06:52:03.701940Z"
    }
   },
   "outputs": [],
   "source": [
    "import cv2\n",
    "import imutils\n",
    "import pickle"
   ]
  },
  {
   "cell_type": "code",
   "execution_count": 5,
   "id": "f6955002",
   "metadata": {
    "ExecuteTime": {
     "end_time": "2021-05-12T06:52:20.091483Z",
     "start_time": "2021-05-12T06:52:20.070585Z"
    }
   },
   "outputs": [],
   "source": [
    "from utils.utils import open_video, crop_margins, map_frames"
   ]
  },
  {
   "cell_type": "code",
   "execution_count": 7,
   "id": "edcc6157",
   "metadata": {
    "ExecuteTime": {
     "end_time": "2021-05-12T06:52:54.941829Z",
     "start_time": "2021-05-12T06:52:54.915277Z"
    }
   },
   "outputs": [],
   "source": [
    "screen_to_frame = pickle.load(open(\"data/screen_to_frame.p\", \"rb\"))\n",
    "# screen_to_frame = np.array([v.ravel() for v in screen_to_frame.values()])"
   ]
  },
  {
   "cell_type": "code",
   "execution_count": null,
   "id": "4398cf18",
   "metadata": {
    "ExecuteTime": {
     "end_time": "2021-05-12T06:40:10.582017Z",
     "start_time": "2021-05-12T06:40:05.042543Z"
    }
   },
   "outputs": [],
   "source": [
    "# check if all screens are present\n",
    "\n",
    "fig, axs = plt.subplots(figsize=(16, 96))\n",
    "\n",
    "for i, s in tqdm(enumerate(screen_to_frame.values())):\n",
    "    plt.title(f\"Screen {i}\")\n",
    "    plt.subplot(22, 2, i + 1)\n",
    "    plt.imshow(s)\n",
    "\n",
    "fig.tight_layout()"
   ]
  },
  {
   "cell_type": "code",
   "execution_count": null,
   "id": "f987e84b",
   "metadata": {},
   "outputs": [],
   "source": []
  },
  {
   "cell_type": "markdown",
   "id": "025e9aae",
   "metadata": {},
   "source": [
    "## map frames"
   ]
  },
  {
   "cell_type": "code",
   "execution_count": null,
   "id": "58842457",
   "metadata": {},
   "outputs": [],
   "source": [
    "screen_to_frame = pickle.load(open(\"data/screen_to_frame.p\", \"rb\"))\n",
    "screen_to_frame = np.array([v.ravel() for v in screen_to_frame.values()])"
   ]
  },
  {
   "cell_type": "code",
   "execution_count": 44,
   "id": "e60b680f",
   "metadata": {
    "ExecuteTime": {
     "end_time": "2021-05-12T07:14:17.749956Z",
     "start_time": "2021-05-12T07:14:05.825829Z"
    },
    "scrolled": true
   },
   "outputs": [
    {
     "name": "stdout",
     "output_type": "stream",
     "text": [
      "getting video start\n"
     ]
    },
    {
     "data": {
      "application/vnd.jupyter.widget-view+json": {
       "model_id": "e9bb3dd7c6c1439fbcb92fe8c2b463cd",
       "version_major": 2,
       "version_minor": 0
      },
      "text/plain": [
       "  0%|          | 0/11277 [00:00<?, ?it/s]"
      ]
     },
     "metadata": {},
     "output_type": "display_data"
    },
    {
     "name": "stdout",
     "output_type": "stream",
     "text": [
      "video starts at frame 325\n",
      "mapping screens\n"
     ]
    },
    {
     "data": {
      "application/vnd.jupyter.widget-view+json": {
       "model_id": "5c97da87bec8424da365dea2fa51de62",
       "version_major": 2,
       "version_minor": 0
      },
      "text/plain": [
       "  0%|          | 0/10952 [00:00<?, ?it/s]"
      ]
     },
     "metadata": {},
     "output_type": "display_data"
    },
    {
     "name": "stdout",
     "output_type": "stream",
     "text": [
      "done mapping screens\n"
     ]
    }
   ],
   "source": [
    "screen_to_frames, frame_to_screen = map_frames('data/speedrun_side.mp4', screen_to_frame)"
   ]
  },
  {
   "cell_type": "code",
   "execution_count": null,
   "id": "faee4a2a",
   "metadata": {},
   "outputs": [],
   "source": []
  },
  {
   "cell_type": "code",
   "execution_count": null,
   "id": "0e2818dd",
   "metadata": {},
   "outputs": [],
   "source": []
  },
  {
   "cell_type": "code",
   "execution_count": null,
   "id": "b5434ed0",
   "metadata": {},
   "outputs": [],
   "source": []
  },
  {
   "cell_type": "markdown",
   "id": "3d0f832b",
   "metadata": {},
   "source": [
    "https://www.sicara.ai/blog/en/object-detection-template-matching"
   ]
  },
  {
   "cell_type": "markdown",
   "id": "584b6156",
   "metadata": {},
   "source": [
    "https://debuggercafe.com/moving-object-detection-using-frame-differencing-with-opencv/"
   ]
  },
  {
   "cell_type": "markdown",
   "id": "6ddf01cf",
   "metadata": {},
   "source": [
    "https://towardsdatascience.com/build-a-motion-heatmap-videousing-opencv-with-python-fd806e8a2340"
   ]
  },
  {
   "cell_type": "markdown",
   "id": "c884102c",
   "metadata": {},
   "source": [
    "https://github.com/kjw0612/awesome-deep-vision#imagenet-classification"
   ]
  },
  {
   "cell_type": "code",
   "execution_count": null,
   "id": "490cc455",
   "metadata": {},
   "outputs": [],
   "source": []
  },
  {
   "cell_type": "code",
   "execution_count": null,
   "id": "28bf161d",
   "metadata": {},
   "outputs": [],
   "source": []
  },
  {
   "cell_type": "markdown",
   "id": "3f09610d",
   "metadata": {},
   "source": [
    "detect moving object\n",
    "\n",
    "what if it does not move?\n",
    "\n",
    "how to know when you are going back?"
   ]
  },
  {
   "cell_type": "markdown",
   "id": "0e61f125",
   "metadata": {},
   "source": [
    "what am i going to present:\n",
    "\n",
    "width 60 of every video\n",
    "\n",
    "last screen corner case\n",
    "\n",
    "find global position of game on screen\n",
    "* calculate the number of unique pixels from the middle\n",
    "* or KISS, detect the black line on top\n",
    "\n",
    "time spent on each screen\n",
    "* detect the screen using nearest neighbor\n",
    "* get dictionary `{screen: [frames]}`\n",
    "* for each screen calculate the proportion to the total time since start speedrun\n",
    "\n",
    "heatmap of each screen\n",
    "* detect the screen\n",
    "* detect the kings location (relative to screen and absolute coordinates)\n",
    "    * one shot object detection\n",
    "    * opencv template matching\n",
    "    * moving object detection (if does not move => previous location)\n",
    "* produce heatmap\n",
    "\n",
    "pipeline:\n",
    "* map_screens.py and screen_to_frame.py for static files\n",
    "* map_frames(filename, screen_to_frame)\n",
    "* for each screen in screen to frames detect motion"
   ]
  },
  {
   "cell_type": "code",
   "execution_count": null,
   "id": "133620f0",
   "metadata": {},
   "outputs": [],
   "source": []
  },
  {
   "cell_type": "code",
   "execution_count": null,
   "id": "5692b351",
   "metadata": {},
   "outputs": [],
   "source": []
  },
  {
   "cell_type": "code",
   "execution_count": null,
   "id": "330b3c00",
   "metadata": {
    "ExecuteTime": {
     "end_time": "2021-05-12T06:32:11.771775Z",
     "start_time": "2021-05-12T06:32:11.741656Z"
    }
   },
   "outputs": [],
   "source": [
    "cap = open_video('data/speedrun.mp4')"
   ]
  },
  {
   "cell_type": "code",
   "execution_count": null,
   "id": "8edfdca7",
   "metadata": {
    "ExecuteTime": {
     "end_time": "2021-05-12T06:32:12.152520Z",
     "start_time": "2021-05-12T06:32:12.135116Z"
    }
   },
   "outputs": [],
   "source": [
    "length = int(cap.get(cv2.CAP_PROP_FRAME_COUNT))"
   ]
  },
  {
   "cell_type": "code",
   "execution_count": null,
   "id": "e196242e",
   "metadata": {
    "ExecuteTime": {
     "end_time": "2021-05-12T06:32:12.775508Z",
     "start_time": "2021-05-12T06:32:12.661215Z"
    }
   },
   "outputs": [],
   "source": [
    "cap.set(cv2.CAP_PROP_POS_FRAMES, length//2)\n",
    "ret, frame = cap.read()"
   ]
  },
  {
   "cell_type": "code",
   "execution_count": null,
   "id": "871d372b",
   "metadata": {
    "ExecuteTime": {
     "end_time": "2021-05-12T06:29:36.175117Z",
     "start_time": "2021-05-12T06:29:36.149345Z"
    }
   },
   "outputs": [],
   "source": [
    "frame = imutils.resize(frame, width=60)"
   ]
  },
  {
   "cell_type": "code",
   "execution_count": null,
   "id": "25c8113d",
   "metadata": {
    "ExecuteTime": {
     "end_time": "2021-05-12T06:32:14.210168Z",
     "start_time": "2021-05-12T06:32:14.172394Z"
    }
   },
   "outputs": [],
   "source": [
    "frame.shape"
   ]
  },
  {
   "cell_type": "markdown",
   "id": "fe0c3136",
   "metadata": {},
   "source": [
    "cases:\n",
    "* double margin on left\n",
    "* double margin on right\n",
    "* margin on left and right"
   ]
  },
  {
   "cell_type": "code",
   "execution_count": null,
   "id": "a5847a24",
   "metadata": {
    "ExecuteTime": {
     "end_time": "2021-05-12T06:32:16.056133Z",
     "start_time": "2021-05-12T06:32:16.020825Z"
    }
   },
   "outputs": [],
   "source": [
    "count_left = 0\n",
    "for pixel in frame[0]:\n",
    "    if (pixel == [0, 0, 0]).all():\n",
    "        count_left += 1\n",
    "    else:\n",
    "        break\n",
    "\n",
    "        \n",
    "count_right = 0\n",
    "for pixel in np.flip(frame[0], axis=0):\n",
    "    if (pixel == [0, 0, 0]).all():\n",
    "        count_right += 1\n",
    "    else:\n",
    "        break"
   ]
  },
  {
   "cell_type": "code",
   "execution_count": null,
   "id": "0106113d",
   "metadata": {
    "ExecuteTime": {
     "end_time": "2021-05-12T06:32:17.363199Z",
     "start_time": "2021-05-12T06:32:17.352223Z"
    }
   },
   "outputs": [],
   "source": [
    "count_left, count_right"
   ]
  },
  {
   "cell_type": "code",
   "execution_count": null,
   "id": "5acf0c3b",
   "metadata": {
    "ExecuteTime": {
     "end_time": "2021-05-12T06:32:18.936981Z",
     "start_time": "2021-05-12T06:32:18.925663Z"
    }
   },
   "outputs": [],
   "source": [
    "cap.release()"
   ]
  },
  {
   "cell_type": "code",
   "execution_count": null,
   "id": "5ddb9f27",
   "metadata": {
    "ExecuteTime": {
     "end_time": "2021-05-12T06:32:19.946684Z",
     "start_time": "2021-05-12T06:32:19.936553Z"
    }
   },
   "outputs": [],
   "source": [
    "frame = crop_margins(frame, count_left, count_right)"
   ]
  },
  {
   "cell_type": "code",
   "execution_count": null,
   "id": "a5f08254",
   "metadata": {
    "ExecuteTime": {
     "end_time": "2021-05-12T06:32:20.321090Z",
     "start_time": "2021-05-12T06:32:20.304359Z"
    }
   },
   "outputs": [],
   "source": [
    "frame.shape"
   ]
  },
  {
   "cell_type": "code",
   "execution_count": null,
   "id": "b29563c4",
   "metadata": {
    "ExecuteTime": {
     "end_time": "2021-05-12T06:32:21.200262Z",
     "start_time": "2021-05-12T06:32:21.007991Z"
    }
   },
   "outputs": [],
   "source": [
    "plt.imshow(frame)"
   ]
  },
  {
   "cell_type": "code",
   "execution_count": null,
   "id": "98626658",
   "metadata": {},
   "outputs": [],
   "source": []
  },
  {
   "cell_type": "code",
   "execution_count": null,
   "id": "2856d740",
   "metadata": {},
   "outputs": [],
   "source": []
  },
  {
   "cell_type": "code",
   "execution_count": null,
   "id": "07803007",
   "metadata": {},
   "outputs": [],
   "source": []
  },
  {
   "cell_type": "code",
   "execution_count": null,
   "id": "24673624",
   "metadata": {},
   "outputs": [],
   "source": [
    "while(cap.isOpened()):\n",
    "    # Capture frame-by-frame\n",
    "    ret, frame = cap.read()\n",
    "    if ret == True:\n",
    "\n",
    "        # Display the resulting frame\n",
    "        cv2.imshow('Frame', frame)\n",
    "\n",
    "        # d to mark the start\n",
    "        k = cv2.waitKey(int(10)) & 0xFF\n",
    "        if k == ord('d'):\n",
    "            if mark_start:\n",
    "                current_start = i\n",
    "                print(\"start\", i)\n",
    "            else:\n",
    "                frames_data.append((screen_n, current_start, i))\n",
    "                print(\"end\", i)\n",
    "                print(screen_n)\n",
    "                screen_n += 1\n",
    "            mark_start = not(mark_start)\n",
    "\n",
    "        # Press Q on keyboard to exit\n",
    "        if k == ord('q'):\n",
    "            break\n",
    "\n",
    "        i += 1\n",
    "\n",
    "        # Break the loop if something is wrong\n",
    "    else:\n",
    "        break\n"
   ]
  },
  {
   "cell_type": "code",
   "execution_count": null,
   "id": "1aab04fa",
   "metadata": {
    "ExecuteTime": {
     "end_time": "2021-05-07T18:22:19.343871Z",
     "start_time": "2021-05-07T18:22:19.335293Z"
    }
   },
   "outputs": [],
   "source": [
    "king = cv2.imread('data/king.webp')"
   ]
  },
  {
   "cell_type": "code",
   "execution_count": null,
   "id": "6d53f6ed",
   "metadata": {
    "ExecuteTime": {
     "end_time": "2021-05-07T18:22:27.417402Z",
     "start_time": "2021-05-07T18:22:27.243405Z"
    }
   },
   "outputs": [],
   "source": [
    "plt.imshow(king)"
   ]
  },
  {
   "cell_type": "code",
   "execution_count": null,
   "id": "80821fea",
   "metadata": {},
   "outputs": [],
   "source": []
  }
 ],
 "metadata": {
  "kernelspec": {
   "display_name": "Python 3",
   "language": "python",
   "name": "python3"
  },
  "language_info": {
   "codemirror_mode": {
    "name": "ipython",
    "version": 3
   },
   "file_extension": ".py",
   "mimetype": "text/x-python",
   "name": "python",
   "nbconvert_exporter": "python",
   "pygments_lexer": "ipython3",
   "version": "3.8.9"
  },
  "toc": {
   "base_numbering": 1,
   "nav_menu": {},
   "number_sections": true,
   "sideBar": true,
   "skip_h1_title": true,
   "title_cell": "Table of Contents",
   "title_sidebar": "Contents",
   "toc_cell": false,
   "toc_position": {},
   "toc_section_display": true,
   "toc_window_display": true
  }
 },
 "nbformat": 4,
 "nbformat_minor": 5
}
