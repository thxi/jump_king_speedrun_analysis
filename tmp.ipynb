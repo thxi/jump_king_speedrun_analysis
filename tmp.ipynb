{
 "cells": [
  {
   "cell_type": "code",
   "execution_count": 1,
   "id": "c462bc7a",
   "metadata": {
    "ExecuteTime": {
     "end_time": "2021-05-16T17:05:58.257955Z",
     "start_time": "2021-05-16T17:05:57.524734Z"
    }
   },
   "outputs": [],
   "source": [
    "import pandas as pd\n",
    "import numpy as np\n",
    "import matplotlib.pyplot as plt\n",
    "import seaborn as sns\n",
    "\n",
    "sns.set()\n",
    "\n",
    "sns.set_style(\"whitegrid\", {'axes.grid' : False})\n",
    "\n",
    "from tqdm.auto import tqdm"
   ]
  },
  {
   "cell_type": "code",
   "execution_count": 2,
   "id": "1530ab9d",
   "metadata": {
    "ExecuteTime": {
     "end_time": "2021-05-16T17:05:58.273815Z",
     "start_time": "2021-05-16T17:05:58.259186Z"
    }
   },
   "outputs": [],
   "source": [
    "%load_ext autoreload\n",
    "%autoreload 2"
   ]
  },
  {
   "cell_type": "code",
   "execution_count": 3,
   "id": "261cc434",
   "metadata": {
    "ExecuteTime": {
     "end_time": "2021-05-16T17:05:58.297173Z",
     "start_time": "2021-05-16T17:05:58.275120Z"
    }
   },
   "outputs": [],
   "source": [
    "import cv2\n",
    "import imutils\n",
    "import pickle"
   ]
  },
  {
   "cell_type": "code",
   "execution_count": 4,
   "id": "f6955002",
   "metadata": {
    "ExecuteTime": {
     "end_time": "2021-05-16T17:05:58.310118Z",
     "start_time": "2021-05-16T17:05:58.298777Z"
    }
   },
   "outputs": [],
   "source": [
    "from utils.utils import crop_margins, dist, get_game_margins, open_video\n",
    "from utils.detect_king import get_king_positions\n",
    "from utils.map_frames import map_frames\n",
    "from utils.screen_to_frame import get_screen_to_frame\n",
    "from utils.heatmap import make_heatmap"
   ]
  },
  {
   "cell_type": "code",
   "execution_count": null,
   "id": "edcc6157",
   "metadata": {
    "ExecuteTime": {
     "end_time": "2021-05-16T15:40:27.455630Z",
     "start_time": "2021-05-16T15:40:27.445057Z"
    }
   },
   "outputs": [],
   "source": [
    "screen_to_frame = pickle.load(open(\"data/screen_to_frame.p\", \"rb\"))\n",
    "# screen_to_frame = np.array([v.ravel() for v in screen_to_frame.values()])"
   ]
  },
  {
   "cell_type": "code",
   "execution_count": null,
   "id": "4398cf18",
   "metadata": {
    "ExecuteTime": {
     "end_time": "2021-05-14T12:23:07.229673Z",
     "start_time": "2021-05-14T12:23:01.692286Z"
    }
   },
   "outputs": [],
   "source": [
    "# check if all screens are present\n",
    "\n",
    "fig, axs = plt.subplots(figsize=(16, 96))\n",
    "\n",
    "for i, s in tqdm(enumerate(screen_to_frame.values())):\n",
    "    plt.title(f\"Screen {i}\")\n",
    "    plt.subplot(22, 2, i + 1)\n",
    "    plt.imshow(s)\n",
    "\n",
    "fig.tight_layout()"
   ]
  },
  {
   "cell_type": "code",
   "execution_count": null,
   "id": "e0d3e979",
   "metadata": {},
   "outputs": [],
   "source": []
  },
  {
   "cell_type": "code",
   "execution_count": null,
   "id": "c8b42b30",
   "metadata": {},
   "outputs": [],
   "source": []
  },
  {
   "cell_type": "code",
   "execution_count": 8,
   "id": "95c9a30a",
   "metadata": {
    "ExecuteTime": {
     "end_time": "2021-05-16T17:06:20.742485Z",
     "start_time": "2021-05-16T17:06:20.714701Z"
    }
   },
   "outputs": [
    {
     "data": {
      "text/plain": [
       "(6660,)"
      ]
     },
     "execution_count": 8,
     "metadata": {},
     "output_type": "execute_result"
    }
   ],
   "source": [
    "screen_to_frame[0].shape"
   ]
  },
  {
   "cell_type": "code",
   "execution_count": 9,
   "id": "ec35644c",
   "metadata": {
    "ExecuteTime": {
     "end_time": "2021-05-16T17:06:23.387717Z",
     "start_time": "2021-05-16T17:06:23.358419Z"
    }
   },
   "outputs": [
    {
     "data": {
      "text/plain": [
       "2580"
      ]
     },
     "execution_count": 9,
     "metadata": {},
     "output_type": "execute_result"
    }
   ],
   "source": [
    "43*60"
   ]
  },
  {
   "cell_type": "code",
   "execution_count": 10,
   "id": "5beab493",
   "metadata": {
    "ExecuteTime": {
     "end_time": "2021-05-16T17:06:57.880098Z",
     "start_time": "2021-05-16T17:06:57.860866Z"
    }
   },
   "outputs": [],
   "source": [
    "screen_to_frame = pickle.load(open(\"data/screen_to_frame.p\", \"rb\"))"
   ]
  },
  {
   "cell_type": "code",
   "execution_count": 15,
   "id": "e998b962",
   "metadata": {
    "ExecuteTime": {
     "end_time": "2021-05-16T17:09:26.482957Z",
     "start_time": "2021-05-16T17:09:26.450558Z"
    }
   },
   "outputs": [],
   "source": [
    "cap = open_video('data/speedrun.mp4')"
   ]
  },
  {
   "cell_type": "code",
   "execution_count": 16,
   "id": "5f88112b",
   "metadata": {
    "ExecuteTime": {
     "end_time": "2021-05-16T17:09:27.282462Z",
     "start_time": "2021-05-16T17:09:27.236160Z"
    }
   },
   "outputs": [
    {
     "data": {
      "text/plain": [
       "(80, 80)"
      ]
     },
     "execution_count": 16,
     "metadata": {},
     "output_type": "execute_result"
    }
   ],
   "source": [
    "get_game_margins(cap)"
   ]
  },
  {
   "cell_type": "code",
   "execution_count": 17,
   "id": "5a0d66a8",
   "metadata": {
    "ExecuteTime": {
     "end_time": "2021-05-16T17:09:43.330857Z",
     "start_time": "2021-05-16T17:09:43.304073Z"
    }
   },
   "outputs": [],
   "source": [
    "_, frame = cap.read()"
   ]
  },
  {
   "cell_type": "code",
   "execution_count": 20,
   "id": "63dc170c",
   "metadata": {
    "ExecuteTime": {
     "end_time": "2021-05-16T17:10:25.674217Z",
     "start_time": "2021-05-16T17:10:25.625547Z"
    }
   },
   "outputs": [],
   "source": [
    "margin_left, margin_right = get_game_margins(cap)"
   ]
  },
  {
   "cell_type": "code",
   "execution_count": 21,
   "id": "41824084",
   "metadata": {
    "ExecuteTime": {
     "end_time": "2021-05-16T17:10:26.944520Z",
     "start_time": "2021-05-16T17:10:26.772543Z"
    }
   },
   "outputs": [
    {
     "data": {
      "text/plain": [
       "<matplotlib.image.AxesImage at 0x7febcc712af0>"
      ]
     },
     "execution_count": 21,
     "metadata": {},
     "output_type": "execute_result"
    },
    {
     "data": {
      "image/png": "[encoded data removed]",
      "text/plain": [
       "<Figure size 432x288 with 1 Axes>"
      ]
     },
     "metadata": {},
     "output_type": "display_data"
    }
   ],
   "source": [
    "plt.imshow(crop_margins(frame, margin_left, margin_right))"
   ]
  },
  {
   "cell_type": "code",
   "execution_count": 13,
   "id": "cedc6280",
   "metadata": {
    "ExecuteTime": {
     "end_time": "2021-05-16T17:07:28.719717Z",
     "start_time": "2021-05-16T17:07:28.571286Z"
    }
   },
   "outputs": [
    {
     "data": {
      "text/plain": [
       "<matplotlib.image.AxesImage at 0x7febcc83a2e0>"
      ]
     },
     "execution_count": 13,
     "metadata": {},
     "output_type": "execute_result"
    },
    {
     "data": {
      "image/png": "[encoded data removed]",
      "text/plain": [
       "<Figure size 432x288 with 1 Axes>"
      ]
     },
     "metadata": {},
     "output_type": "display_data"
    }
   ],
   "source": [
    "plt.imshow(screen_to_frame[0])"
   ]
  },
  {
   "cell_type": "code",
   "execution_count": 25,
   "id": "5c55afec",
   "metadata": {
    "ExecuteTime": {
     "end_time": "2021-05-16T17:12:48.820640Z",
     "start_time": "2021-05-16T17:12:48.797040Z"
    }
   },
   "outputs": [
    {
     "data": {
      "text/plain": [
       "(37, 60, 3)"
      ]
     },
     "execution_count": 25,
     "metadata": {},
     "output_type": "execute_result"
    }
   ],
   "source": [
    "screen_to_frame[0].shape"
   ]
  },
  {
   "cell_type": "code",
   "execution_count": null,
   "id": "5a9b3149",
   "metadata": {},
   "outputs": [],
   "source": []
  },
  {
   "cell_type": "code",
   "execution_count": 5,
   "id": "7a871664",
   "metadata": {
    "ExecuteTime": {
     "end_time": "2021-05-16T17:06:00.575495Z",
     "start_time": "2021-05-16T17:06:00.422111Z"
    }
   },
   "outputs": [
    {
     "name": "stdout",
     "output_type": "stream",
     "text": [
      "getting video start\n"
     ]
    },
    {
     "data": {
      "application/vnd.jupyter.widget-view+json": {
       "model_id": "d950a519c2dc49cead5d24ac1ba149a1",
       "version_major": 2,
       "version_minor": 0
      },
      "text/plain": [
       "  0%|          | 0/10026 [00:00<?, ?it/s]"
      ]
     },
     "metadata": {},
     "output_type": "display_data"
    },
    {
     "ename": "ValueError",
     "evalue": "operands could not be broadcast together with shapes (43,6660) (8100,) ",
     "output_type": "error",
     "traceback": [
      "\u001b[0;31m---------------------------------------------------------------------------\u001b[0m",
      "\u001b[0;31mValueError\u001b[0m                                Traceback (most recent call last)",
      "\u001b[0;32m<ipython-input-5-b4ac47dcf6f7>\u001b[0m in \u001b[0;36m<module>\u001b[0;34m\u001b[0m\n\u001b[1;32m      3\u001b[0m \u001b[0;34m\u001b[0m\u001b[0m\n\u001b[1;32m      4\u001b[0m \u001b[0mcap\u001b[0m \u001b[0;34m=\u001b[0m \u001b[0mopen_video\u001b[0m\u001b[0;34m(\u001b[0m\u001b[0;34m'data/speedrun.mp4'\u001b[0m\u001b[0;34m)\u001b[0m\u001b[0;34m\u001b[0m\u001b[0;34m\u001b[0m\u001b[0m\n\u001b[0;32m----> 5\u001b[0;31m screen_to_frames, frame_to_screen = map_frames(\n\u001b[0m\u001b[1;32m      6\u001b[0m     cap, screen_to_frame)\n\u001b[1;32m      7\u001b[0m \u001b[0mcap\u001b[0m\u001b[0;34m.\u001b[0m\u001b[0mset\u001b[0m\u001b[0;34m(\u001b[0m\u001b[0mcv2\u001b[0m\u001b[0;34m.\u001b[0m\u001b[0mCAP_PROP_POS_FRAMES\u001b[0m\u001b[0;34m,\u001b[0m \u001b[0;36m0\u001b[0m\u001b[0;34m)\u001b[0m\u001b[0;34m\u001b[0m\u001b[0;34m\u001b[0m\u001b[0m\n",
      "\u001b[0;32m~/Desktop/jump_king_speedrun_analysis/utils/map_frames.py\u001b[0m in \u001b[0;36mmap_frames\u001b[0;34m(cap, screen_to_frame)\u001b[0m\n\u001b[1;32m     29\u001b[0m             \u001b[0mframe\u001b[0m \u001b[0;34m=\u001b[0m \u001b[0mimutils\u001b[0m\u001b[0;34m.\u001b[0m\u001b[0mresize\u001b[0m\u001b[0;34m(\u001b[0m\u001b[0mframe\u001b[0m\u001b[0;34m,\u001b[0m \u001b[0mwidth\u001b[0m\u001b[0;34m=\u001b[0m\u001b[0;36m60\u001b[0m\u001b[0;34m)\u001b[0m\u001b[0;34m.\u001b[0m\u001b[0mravel\u001b[0m\u001b[0;34m(\u001b[0m\u001b[0;34m)\u001b[0m\u001b[0;34m\u001b[0m\u001b[0;34m\u001b[0m\u001b[0m\n\u001b[1;32m     30\u001b[0m \u001b[0;34m\u001b[0m\u001b[0m\n\u001b[0;32m---> 31\u001b[0;31m             \u001b[0mdistances\u001b[0m \u001b[0;34m=\u001b[0m \u001b[0mnp\u001b[0m\u001b[0;34m.\u001b[0m\u001b[0msum\u001b[0m\u001b[0;34m(\u001b[0m\u001b[0;34m(\u001b[0m\u001b[0mscreen_to_frame\u001b[0m \u001b[0;34m-\u001b[0m \u001b[0mframe\u001b[0m\u001b[0;34m)\u001b[0m\u001b[0;34m**\u001b[0m\u001b[0;36m2\u001b[0m\u001b[0;34m,\u001b[0m \u001b[0maxis\u001b[0m\u001b[0;34m=\u001b[0m\u001b[0;36m1\u001b[0m\u001b[0;34m)\u001b[0m\u001b[0;34m\u001b[0m\u001b[0;34m\u001b[0m\u001b[0m\n\u001b[0m\u001b[1;32m     32\u001b[0m             \u001b[0mscreen\u001b[0m \u001b[0;34m=\u001b[0m \u001b[0mnp\u001b[0m\u001b[0;34m.\u001b[0m\u001b[0margmin\u001b[0m\u001b[0;34m(\u001b[0m\u001b[0mdistances\u001b[0m\u001b[0;34m)\u001b[0m\u001b[0;34m\u001b[0m\u001b[0;34m\u001b[0m\u001b[0m\n\u001b[1;32m     33\u001b[0m             \u001b[0;32mif\u001b[0m \u001b[0mscreen\u001b[0m \u001b[0;34m==\u001b[0m \u001b[0;36m0\u001b[0m\u001b[0;34m:\u001b[0m\u001b[0;34m\u001b[0m\u001b[0;34m\u001b[0m\u001b[0m\n",
      "\u001b[0;31mValueError\u001b[0m: operands could not be broadcast together with shapes (43,6660) (8100,) "
     ]
    }
   ],
   "source": [
    "screen_to_frame = pickle.load(open(\"data/screen_to_frame.p\", \"rb\"))\n",
    "screen_to_frame = np.array([v.ravel() for v in screen_to_frame.values()])\n",
    "\n",
    "cap = open_video('data/speedrun.mp4')\n",
    "screen_to_frames, frame_to_screen = map_frames(\n",
    "    cap, screen_to_frame)\n",
    "cap.set(cv2.CAP_PROP_POS_FRAMES, 0)"
   ]
  },
  {
   "cell_type": "code",
   "execution_count": null,
   "id": "f2c7f2c8",
   "metadata": {
    "ExecuteTime": {
     "end_time": "2021-05-16T17:05:31.243051Z",
     "start_time": "2021-05-16T17:05:21.907425Z"
    }
   },
   "outputs": [],
   "source": [
    "screen_to_frame = get_screen_to_frame(cap, screen_to_frames)"
   ]
  },
  {
   "cell_type": "code",
   "execution_count": null,
   "id": "5d69407f",
   "metadata": {
    "ExecuteTime": {
     "end_time": "2021-05-16T16:59:57.546360Z",
     "start_time": "2021-05-16T16:59:48.551445Z"
    }
   },
   "outputs": [],
   "source": [
    "positions, screen_to_positions = get_king_positions(cap, screen_to_frames, screen_to_frame)"
   ]
  },
  {
   "cell_type": "code",
   "execution_count": null,
   "id": "5b9a04e6",
   "metadata": {},
   "outputs": [],
   "source": []
  },
  {
   "cell_type": "code",
   "execution_count": null,
   "id": "eb6f677d",
   "metadata": {
    "ExecuteTime": {
     "end_time": "2021-05-16T17:02:49.124451Z",
     "start_time": "2021-05-16T17:02:49.097393Z"
    }
   },
   "outputs": [],
   "source": [
    "screen_to_frame[0].shape"
   ]
  },
  {
   "cell_type": "code",
   "execution_count": null,
   "id": "bdd85c07",
   "metadata": {
    "ExecuteTime": {
     "end_time": "2021-05-16T17:04:23.763375Z",
     "start_time": "2021-05-16T17:04:23.734679Z"
    }
   },
   "outputs": [],
   "source": [
    "screen_to_frame[0].shape"
   ]
  },
  {
   "cell_type": "code",
   "execution_count": null,
   "id": "3c963c45",
   "metadata": {
    "ExecuteTime": {
     "end_time": "2021-05-16T17:04:32.283153Z",
     "start_time": "2021-05-16T17:04:32.269383Z"
    }
   },
   "outputs": [],
   "source": [
    "screen_to_frame[0][0][0]"
   ]
  },
  {
   "cell_type": "code",
   "execution_count": null,
   "id": "9a7037a4",
   "metadata": {},
   "outputs": [],
   "source": []
  },
  {
   "cell_type": "code",
   "execution_count": null,
   "id": "82b1c533",
   "metadata": {
    "ExecuteTime": {
     "end_time": "2021-05-16T17:03:21.541680Z",
     "start_time": "2021-05-16T17:03:21.369233Z"
    }
   },
   "outputs": [],
   "source": [
    "plt.imshow(screen_to_frame[0])"
   ]
  },
  {
   "cell_type": "code",
   "execution_count": null,
   "id": "8288c4c1",
   "metadata": {},
   "outputs": [],
   "source": []
  },
  {
   "cell_type": "code",
   "execution_count": null,
   "id": "a3878f31",
   "metadata": {},
   "outputs": [],
   "source": []
  },
  {
   "cell_type": "code",
   "execution_count": null,
   "id": "f0a293c0",
   "metadata": {
    "ExecuteTime": {
     "end_time": "2021-05-16T16:59:58.817447Z",
     "start_time": "2021-05-16T16:59:57.547618Z"
    }
   },
   "outputs": [],
   "source": [
    "screen_to_heatmap = {}\n",
    "for i in tqdm(range(43)):\n",
    "    heatmap = make_heatmap(screen_to_positions[i], screen_to_frame[i])\n",
    "    screen_to_heatmap[i] = heatmap"
   ]
  },
  {
   "cell_type": "code",
   "execution_count": null,
   "id": "8d8593d7",
   "metadata": {
    "ExecuteTime": {
     "end_time": "2021-05-16T16:59:58.818845Z",
     "start_time": "2021-05-16T16:59:57.409Z"
    }
   },
   "outputs": [],
   "source": [
    "im = np.concatenate([screen_to_heatmap[i] for i in range(43)][::-1], axis=0)"
   ]
  },
  {
   "cell_type": "code",
   "execution_count": null,
   "id": "c793821b",
   "metadata": {
    "ExecuteTime": {
     "end_time": "2021-05-16T16:07:54.782659Z",
     "start_time": "2021-05-16T16:07:53.274173Z"
    },
    "scrolled": false
   },
   "outputs": [],
   "source": [
    "fig, axs = plt.subplots(figsize=(16, 96))\n",
    "\n",
    "plt.imshow(im)"
   ]
  },
  {
   "cell_type": "code",
   "execution_count": null,
   "id": "fcff5e29",
   "metadata": {
    "ExecuteTime": {
     "end_time": "2021-05-16T16:08:13.537765Z",
     "start_time": "2021-05-16T16:08:13.501354Z"
    }
   },
   "outputs": [],
   "source": [
    "screen_to_frames[42][0]"
   ]
  },
  {
   "cell_type": "code",
   "execution_count": null,
   "id": "673d3cc4",
   "metadata": {},
   "outputs": [],
   "source": []
  },
  {
   "cell_type": "code",
   "execution_count": null,
   "id": "e4955fd5",
   "metadata": {
    "ExecuteTime": {
     "end_time": "2021-05-16T16:08:14.535357Z",
     "start_time": "2021-05-16T16:08:14.492874Z"
    }
   },
   "outputs": [],
   "source": [
    "cap.set(cv2.CAP_PROP_POS_FRAMES, screen_to_frames[42][0][0])"
   ]
  },
  {
   "cell_type": "code",
   "execution_count": null,
   "id": "e8ba3317",
   "metadata": {
    "ExecuteTime": {
     "end_time": "2021-05-16T16:08:16.226279Z",
     "start_time": "2021-05-16T16:08:16.199185Z"
    }
   },
   "outputs": [],
   "source": [
    "n = 140"
   ]
  },
  {
   "cell_type": "code",
   "execution_count": null,
   "id": "f058190e",
   "metadata": {
    "ExecuteTime": {
     "end_time": "2021-05-16T16:08:38.356205Z",
     "start_time": "2021-05-16T16:08:24.436215Z"
    }
   },
   "outputs": [],
   "source": [
    "for i in range(n):\n",
    "    ret, frame = cap.read()\n",
    "    if not (ret):\n",
    "        print(\"something went wrong\")\n",
    "        exit(1)\n",
    "\n",
    "    cv2.imshow('Frame', frame)\n",
    "\n",
    "    k = cv2.waitKey(100) & 0xFF\n",
    "    # q to exit\n",
    "    if k == ord('q'):\n",
    "        break\n",
    "\n",
    "cv2.destroyAllWindows()"
   ]
  },
  {
   "cell_type": "code",
   "execution_count": null,
   "id": "a376760d",
   "metadata": {},
   "outputs": [],
   "source": []
  },
  {
   "cell_type": "code",
   "execution_count": null,
   "id": "060fd833",
   "metadata": {
    "ExecuteTime": {
     "end_time": "2021-05-12T13:05:09.818987Z",
     "start_time": "2021-05-12T13:05:09.789306Z"
    }
   },
   "outputs": [],
   "source": [
    "cap.release()"
   ]
  },
  {
   "cell_type": "markdown",
   "id": "0e61f125",
   "metadata": {},
   "source": [
    "what am i going to present:\n",
    "\n",
    "width 60 of every video\n",
    "\n",
    "last screen corner case\n",
    "detect not continuous video corner case\n",
    "\n",
    "find global position of game on screen\n",
    "* detect the black line on top\n",
    "    \n",
    "* heatmap:\n",
    "    * array of coordinates\n",
    "    * for each frame\n",
    "    * screen = frame_to_screen(i) # offset?\n",
    "    * background = screen_to_frame[screen]\n",
    "    * detect king\n",
    "    * screen_to_positions = {screen: [[x, y]]}\n",
    "    * after:\n",
    "    * for each screen\n",
    "    * make a heatmap\n",
    "    * https://github.com/TobiasRoeddiger/GazePointHeatMap/blob/master/gazeheatplot.py\n",
    "    * https://stackoverflow.com/questions/2369492/generate-a-heatmap-in-matplotlib-using-a-scatter-data-set\n",
    "    * rgba to make transparent\n",
    "* statistical\n",
    "    * screentime\n",
    "    * number of falls (12-13 screens)\n",
    "    * number of total falls\n",
    "* corner cases\n",
    "    \n",
    "\n",
    "pipeline:\n",
    "* map_screens.py and screen_to_frame.py for static files\n",
    "* map_frames(filename, screen_to_frame)\n",
    "* for each screen in screen to frames detect motion"
   ]
  },
  {
   "cell_type": "markdown",
   "id": "e0554bf4",
   "metadata": {},
   "source": [
    "https://www.sicara.ai/blog/en/object-detection-template-matching"
   ]
  },
  {
   "cell_type": "markdown",
   "id": "c1d24151",
   "metadata": {},
   "source": [
    "https://debuggercafe.com/moving-object-detection-using-frame-differencing-with-opencv/"
   ]
  },
  {
   "cell_type": "code",
   "execution_count": null,
   "id": "af96834c",
   "metadata": {
    "ExecuteTime": {
     "end_time": "2021-05-16T16:16:57.276445Z",
     "start_time": "2021-05-16T16:16:57.260455Z"
    }
   },
   "outputs": [],
   "source": [
    "im.shape"
   ]
  },
  {
   "cell_type": "markdown",
   "id": "70d87d72",
   "metadata": {},
   "source": [
    "https://towardsdatascience.com/build-a-motion-heatmap-videousing-opencv-with-python-fd806e8a2340"
   ]
  },
  {
   "cell_type": "markdown",
   "id": "21eaba69",
   "metadata": {},
   "source": [
    "https://github.com/kjw0612/awesome-deep-vision#imagenet-classification"
   ]
  },
  {
   "cell_type": "markdown",
   "id": "1455fc26",
   "metadata": {},
   "source": [
    "https://www.pyimagesearch.com/2015/05/25/basic-motion-detection-and-tracking-with-python-and-opencv/"
   ]
  },
  {
   "cell_type": "code",
   "execution_count": null,
   "id": "14820b74",
   "metadata": {},
   "outputs": [],
   "source": []
  },
  {
   "cell_type": "code",
   "execution_count": null,
   "id": "b368e1ea",
   "metadata": {},
   "outputs": [],
   "source": []
  },
  {
   "cell_type": "code",
   "execution_count": null,
   "id": "12bd4b19",
   "metadata": {},
   "outputs": [],
   "source": []
  }
 ],
 "metadata": {
  "kernelspec": {
   "display_name": "Python 3",
   "language": "python",
   "name": "python3"
  },
  "language_info": {
   "codemirror_mode": {
    "name": "ipython",
    "version": 3
   },
   "file_extension": ".py",
   "mimetype": "text/x-python",
   "name": "python",
   "nbconvert_exporter": "python",
   "pygments_lexer": "ipython3",
   "version": "3.8.9"
  },
  "toc": {
   "base_numbering": 1,
   "nav_menu": {},
   "number_sections": true,
   "sideBar": true,
   "skip_h1_title": true,
   "title_cell": "Table of Contents",
   "title_sidebar": "Contents",
   "toc_cell": false,
   "toc_position": {},
   "toc_section_display": true,
   "toc_window_display": true
  }
 },
 "nbformat": 4,
 "nbformat_minor": 5
}
