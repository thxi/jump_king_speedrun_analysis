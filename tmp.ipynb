{
 "cells": [
  {
   "cell_type": "code",
   "execution_count": 1,
   "id": "c462bc7a",
   "metadata": {
    "ExecuteTime": {
     "end_time": "2021-05-12T12:07:09.332284Z",
     "start_time": "2021-05-12T12:07:08.520765Z"
    }
   },
   "outputs": [],
   "source": [
    "import pandas as pd\n",
    "import numpy as np\n",
    "import matplotlib.pyplot as plt\n",
    "import seaborn as sns\n",
    "\n",
    "sns.set()\n",
    "\n",
    "sns.set_style(\"whitegrid\", {'axes.grid' : False})\n",
    "\n",
    "from tqdm.auto import tqdm"
   ]
  },
  {
   "cell_type": "code",
   "execution_count": 2,
   "id": "1530ab9d",
   "metadata": {
    "ExecuteTime": {
     "end_time": "2021-05-12T12:07:09.348826Z",
     "start_time": "2021-05-12T12:07:09.333541Z"
    }
   },
   "outputs": [],
   "source": [
    "%load_ext autoreload\n",
    "%autoreload 2"
   ]
  },
  {
   "cell_type": "code",
   "execution_count": 3,
   "id": "261cc434",
   "metadata": {
    "ExecuteTime": {
     "end_time": "2021-05-12T12:07:09.372852Z",
     "start_time": "2021-05-12T12:07:09.350101Z"
    }
   },
   "outputs": [],
   "source": [
    "import cv2\n",
    "import imutils\n",
    "import pickle"
   ]
  },
  {
   "cell_type": "code",
   "execution_count": 4,
   "id": "f6955002",
   "metadata": {
    "ExecuteTime": {
     "end_time": "2021-05-12T12:07:09.385325Z",
     "start_time": "2021-05-12T12:07:09.374037Z"
    }
   },
   "outputs": [],
   "source": [
    "from utils.utils import open_video, crop_margins, map_frames, get_game_margins"
   ]
  },
  {
   "cell_type": "code",
   "execution_count": null,
   "id": "edcc6157",
   "metadata": {
    "ExecuteTime": {
     "end_time": "2021-05-12T11:48:53.538001Z",
     "start_time": "2021-05-12T11:48:53.526687Z"
    }
   },
   "outputs": [],
   "source": [
    "screen_to_frame = pickle.load(open(\"data/screen_to_frame.p\", \"rb\"))\n",
    "# screen_to_frame = np.array([v.ravel() for v in screen_to_frame.values()])"
   ]
  },
  {
   "cell_type": "code",
   "execution_count": null,
   "id": "4398cf18",
   "metadata": {
    "ExecuteTime": {
     "end_time": "2021-05-12T06:40:10.582017Z",
     "start_time": "2021-05-12T06:40:05.042543Z"
    }
   },
   "outputs": [],
   "source": [
    "# check if all screens are present\n",
    "\n",
    "fig, axs = plt.subplots(figsize=(16, 96))\n",
    "\n",
    "for i, s in tqdm(enumerate(screen_to_frame.values())):\n",
    "    plt.title(f\"Screen {i}\")\n",
    "    plt.subplot(22, 2, i + 1)\n",
    "    plt.imshow(s)\n",
    "\n",
    "fig.tight_layout()"
   ]
  },
  {
   "cell_type": "code",
   "execution_count": null,
   "id": "f987e84b",
   "metadata": {},
   "outputs": [],
   "source": []
  },
  {
   "cell_type": "markdown",
   "id": "0e61f125",
   "metadata": {},
   "source": [
    "what am i going to present:\n",
    "\n",
    "width 60 of every video\n",
    "\n",
    "last screen corner case\n",
    "detect not continuous video corner\n",
    "\n",
    "find global position of game on screen\n",
    "* calculate the number of unique pixels from the middle\n",
    "* or KISS, detect the black line on top\n",
    "\n",
    "time spent on each screen\n",
    "* detect the screen using nearest neighbor\n",
    "* get dictionary `{screen: [frames]}`\n",
    "* for each screen calculate the proportion to the total time since start speedrun\n",
    "\n",
    "heatmap of each screen\n",
    "* detect the screen\n",
    "* detect the kings location (relative to screen and absolute coordinates)\n",
    "    * one shot object detection\n",
    "    * opencv template matching\n",
    "    * moving object detection (if does not move => previous location)\n",
    "* produce heatmap\n",
    "\n",
    "pipeline:\n",
    "* map_screens.py and screen_to_frame.py for static files\n",
    "* map_frames(filename, screen_to_frame)\n",
    "* for each screen in screen to frames detect motion"
   ]
  },
  {
   "cell_type": "markdown",
   "id": "e0554bf4",
   "metadata": {},
   "source": [
    "https://www.sicara.ai/blog/en/object-detection-template-matching"
   ]
  },
  {
   "cell_type": "markdown",
   "id": "c1d24151",
   "metadata": {},
   "source": [
    "https://debuggercafe.com/moving-object-detection-using-frame-differencing-with-opencv/"
   ]
  },
  {
   "cell_type": "markdown",
   "id": "70d87d72",
   "metadata": {},
   "source": [
    "https://towardsdatascience.com/build-a-motion-heatmap-videousing-opencv-with-python-fd806e8a2340"
   ]
  },
  {
   "cell_type": "markdown",
   "id": "21eaba69",
   "metadata": {},
   "source": [
    "https://github.com/kjw0612/awesome-deep-vision#imagenet-classification"
   ]
  },
  {
   "cell_type": "markdown",
   "id": "f647c81f",
   "metadata": {},
   "source": [
    "-"
   ]
  },
  {
   "cell_type": "markdown",
   "id": "1455fc26",
   "metadata": {},
   "source": [
    "https://www.pyimagesearch.com/2015/05/25/basic-motion-detection-and-tracking-with-python-and-opencv/"
   ]
  },
  {
   "cell_type": "code",
   "execution_count": 5,
   "id": "71db5bee",
   "metadata": {
    "ExecuteTime": {
     "end_time": "2021-05-12T12:07:13.322042Z",
     "start_time": "2021-05-12T12:07:13.298101Z"
    }
   },
   "outputs": [],
   "source": [
    "screen_to_frame = pickle.load(open(\"data/screen_to_frame.p\", \"rb\"))\n",
    "screen_to_frame = np.array([v.ravel() for v in screen_to_frame.values()])"
   ]
  },
  {
   "cell_type": "code",
   "execution_count": 6,
   "id": "3377eb98",
   "metadata": {
    "ExecuteTime": {
     "end_time": "2021-05-12T12:07:29.279146Z",
     "start_time": "2021-05-12T12:07:15.623504Z"
    },
    "scrolled": true
   },
   "outputs": [
    {
     "name": "stdout",
     "output_type": "stream",
     "text": [
      "getting video start\n"
     ]
    },
    {
     "data": {
      "application/vnd.jupyter.widget-view+json": {
       "model_id": "eb63513567a54f9ab6a0ba9907f74a06",
       "version_major": 2,
       "version_minor": 0
      },
      "text/plain": [
       "  0%|          | 0/11277 [00:00<?, ?it/s]"
      ]
     },
     "metadata": {},
     "output_type": "display_data"
    },
    {
     "name": "stdout",
     "output_type": "stream",
     "text": [
      "video starts at frame 325\n",
      "mapping screens\n"
     ]
    },
    {
     "data": {
      "application/vnd.jupyter.widget-view+json": {
       "model_id": "4a4668f3b68e4e289d50e9d39f7db4cf",
       "version_major": 2,
       "version_minor": 0
      },
      "text/plain": [
       "  0%|          | 0/10952 [00:00<?, ?it/s]"
      ]
     },
     "metadata": {},
     "output_type": "display_data"
    },
    {
     "name": "stdout",
     "output_type": "stream",
     "text": [
      "done mapping screens\n"
     ]
    }
   ],
   "source": [
    "screen_to_frames, frame_to_screen = map_frames('data/speedrun_side.mp4', screen_to_frame)"
   ]
  },
  {
   "cell_type": "code",
   "execution_count": 142,
   "id": "330b3c00",
   "metadata": {
    "ExecuteTime": {
     "end_time": "2021-05-12T13:20:21.972636Z",
     "start_time": "2021-05-12T13:20:21.918964Z"
    }
   },
   "outputs": [
    {
     "data": {
      "text/plain": [
       "True"
      ]
     },
     "execution_count": 142,
     "metadata": {},
     "output_type": "execute_result"
    }
   ],
   "source": [
    "cap = open_video('data/speedrun_side.mp4')\n",
    "margin_left, margin_right = get_game_margins(cap)\n",
    "cap.set(cv2.CAP_PROP_POS_FRAMES, 0)"
   ]
  },
  {
   "cell_type": "code",
   "execution_count": 143,
   "id": "739b4f8c",
   "metadata": {
    "ExecuteTime": {
     "end_time": "2021-05-12T13:20:22.185891Z",
     "start_time": "2021-05-12T13:20:22.136000Z"
    }
   },
   "outputs": [
    {
     "data": {
      "text/plain": [
       "True"
      ]
     },
     "execution_count": 143,
     "metadata": {},
     "output_type": "execute_result"
    }
   ],
   "source": [
    "s = screen_to_frames[5][0]\n",
    "n = s[1] - s[0]\n",
    "cap.set(cv2.CAP_PROP_POS_FRAMES, s[0])"
   ]
  },
  {
   "cell_type": "code",
   "execution_count": 144,
   "id": "546aacd9",
   "metadata": {
    "ExecuteTime": {
     "end_time": "2021-05-12T13:20:22.605843Z",
     "start_time": "2021-05-12T13:20:22.407028Z"
    }
   },
   "outputs": [
    {
     "data": {
      "application/vnd.jupyter.widget-view+json": {
       "model_id": "370ea168a27b47269d11f57d1ef888d7",
       "version_major": 2,
       "version_minor": 0
      },
      "text/plain": [
       "  0%|          | 0/219 [00:00<?, ?it/s]"
      ]
     },
     "metadata": {},
     "output_type": "display_data"
    }
   ],
   "source": [
    "frames = []\n",
    "\n",
    "for i in tqdm(range(n-1)):\n",
    "    ret, frame = cap.read()\n",
    "    if ret == False:\n",
    "        print(\"error\")\n",
    "        break\n",
    "    \n",
    "    frame = crop_margins(frame, margin_left, margin_right)\n",
    "    frame = imutils.resize(frame, width=60)\n",
    "    frame = cv2.cvtColor(frame, cv2.COLOR_BGR2GRAY)\n",
    "    frames.append(frame)"
   ]
  },
  {
   "cell_type": "code",
   "execution_count": 145,
   "id": "48b0fad0",
   "metadata": {
    "ExecuteTime": {
     "end_time": "2021-05-12T13:20:22.722491Z",
     "start_time": "2021-05-12T13:20:22.703089Z"
    }
   },
   "outputs": [],
   "source": [
    "avg_frame = np.mean(frames, axis=0).astype(np.uint8)"
   ]
  },
  {
   "cell_type": "code",
   "execution_count": 148,
   "id": "3957fd95",
   "metadata": {
    "ExecuteTime": {
     "end_time": "2021-05-12T13:21:59.516354Z",
     "start_time": "2021-05-12T13:21:59.457766Z"
    }
   },
   "outputs": [
    {
     "data": {
      "text/plain": [
       "True"
      ]
     },
     "execution_count": 148,
     "metadata": {},
     "output_type": "execute_result"
    }
   ],
   "source": [
    "cap.set(cv2.CAP_PROP_POS_FRAMES, s[0])"
   ]
  },
  {
   "cell_type": "markdown",
   "id": "bbc8fdfe",
   "metadata": {},
   "source": [
    "find closest to previous position\n",
    "make array of starting positions"
   ]
  },
  {
   "cell_type": "markdown",
   "id": "e8bf8381",
   "metadata": {},
   "source": [
    "remember that x y is reversed for frame"
   ]
  },
  {
   "cell_type": "code",
   "execution_count": 150,
   "id": "e3f6c72a",
   "metadata": {
    "ExecuteTime": {
     "end_time": "2021-05-12T13:22:12.196762Z",
     "start_time": "2021-05-12T13:22:12.168431Z"
    }
   },
   "outputs": [
    {
     "data": {
      "text/plain": [
       "(44, 60)"
      ]
     },
     "execution_count": 150,
     "metadata": {},
     "output_type": "execute_result"
    }
   ],
   "source": [
    "frame.shape # "
   ]
  },
  {
   "cell_type": "code",
   "execution_count": 149,
   "id": "288e3b12",
   "metadata": {
    "ExecuteTime": {
     "end_time": "2021-05-12T13:22:06.646904Z",
     "start_time": "2021-05-12T13:22:00.310234Z"
    }
   },
   "outputs": [
    {
     "data": {
      "application/vnd.jupyter.widget-view+json": {
       "model_id": "8c97f63a1c21467681f4d44caa2f4bae",
       "version_major": 2,
       "version_minor": 0
      },
      "text/plain": [
       "  0%|          | 0/219 [00:00<?, ?it/s]"
      ]
     },
     "metadata": {},
     "output_type": "display_data"
    }
   ],
   "source": [
    "def dist(a, b):\n",
    "    return (a[0]-b[0])**2 + (a[1]-b[1])**2\n",
    "\n",
    "positions = [(14, 30)]\n",
    "for i in tqdm(range(n-1)):\n",
    "    ret, frame = cap.read()\n",
    "    if ret == False:\n",
    "        print(\"error\")\n",
    "        break\n",
    "    \n",
    "    frame = crop_margins(frame, margin_left, margin_right)\n",
    "    frame = imutils.resize(frame, width=60)\n",
    "    orig_frame = frame.copy()\n",
    "    \n",
    "    frame = cv2.cvtColor(frame, cv2.COLOR_BGR2GRAY)\n",
    "    frame_diff = cv2.absdiff(avg_frame, frame)\n",
    "    \n",
    "    ret, thres = cv2.threshold(frame_diff, 50, 255, cv2.THRESH_BINARY)\n",
    "    dilate_frame = cv2.dilate(thres, None, iterations=2)\n",
    "    \n",
    "    contours, hierarchy = cv2.findContours(dilate_frame, cv2.RETR_EXTERNAL, cv2.CHAIN_APPROX_SIMPLE)\n",
    "    \n",
    "    # draw the contours, not strictly necessary\n",
    "    for i, cnt in enumerate(contours):\n",
    "        cv2.drawContours(frame, contours, i, (0, 0, 255), 3)\n",
    "    \n",
    "    if len(contours) == 0:\n",
    "        positions.append(positions[-1])\n",
    "    elif len(contours) == 1:\n",
    "        (x, y, w, h) = cv2.boundingRect(contours[0])\n",
    "        if dist(positions[-1], (x+w//2, y+h//2)) > 100:\n",
    "            # detected another object\n",
    "            positions.append(positions[-1])\n",
    "        else:\n",
    "            positions.append((x+w//2, y+h//2))\n",
    "    else:\n",
    "        \n",
    "        distances = []\n",
    "        for contour in contours:\n",
    "            (x, y, w, h) = cv2.boundingRect(contour)\n",
    "            distances.append(dist(positions[-1], (x+w//2, y+h//2)))\n",
    "        pidx = np.argmin(distances)\n",
    "        (x, y, w, h) = cv2.boundingRect(contours[pidx])\n",
    "        positions.append((x+w//2, y+h//2))\n",
    "\n",
    "    x, y = positions[-1]\n",
    "    cv2.rectangle(orig_frame, (x-3, y-3), (x+3, y+3), (0, 255, 0), 1)\n",
    "    \n",
    "    orig_frame = imutils.resize(orig_frame, width=600)\n",
    "    cv2.imshow(\"view\", orig_frame)\n",
    "    k = cv2.waitKey(100) & 0xFF\n",
    "    if k == ord('q'):\n",
    "        break\n",
    "        \n",
    "\n",
    "cv2.destroyAllWindows()"
   ]
  },
  {
   "cell_type": "code",
   "execution_count": 138,
   "id": "d6db3212",
   "metadata": {
    "ExecuteTime": {
     "end_time": "2021-05-12T13:05:09.818987Z",
     "start_time": "2021-05-12T13:05:09.789306Z"
    }
   },
   "outputs": [],
   "source": [
    "cap.release()"
   ]
  },
  {
   "cell_type": "code",
   "execution_count": null,
   "id": "d7238301",
   "metadata": {},
   "outputs": [],
   "source": []
  },
  {
   "cell_type": "markdown",
   "id": "4fc9c005",
   "metadata": {},
   "source": [
    "detect something like a box\n",
    "\n",
    "if cannot => previous position\n",
    "\n",
    "corner case first stage"
   ]
  },
  {
   "cell_type": "code",
   "execution_count": null,
   "id": "b368e1ea",
   "metadata": {},
   "outputs": [],
   "source": []
  },
  {
   "cell_type": "code",
   "execution_count": null,
   "id": "1aab04fa",
   "metadata": {
    "ExecuteTime": {
     "end_time": "2021-05-12T07:49:37.343847Z",
     "start_time": "2021-05-12T07:49:37.313636Z"
    }
   },
   "outputs": [],
   "source": [
    "king = cv2.imread('data/king.webp')"
   ]
  },
  {
   "cell_type": "code",
   "execution_count": null,
   "id": "6d53f6ed",
   "metadata": {
    "ExecuteTime": {
     "end_time": "2021-05-12T07:49:37.777914Z",
     "start_time": "2021-05-12T07:49:37.629284Z"
    }
   },
   "outputs": [],
   "source": [
    "plt.imshow(king)"
   ]
  },
  {
   "cell_type": "code",
   "execution_count": null,
   "id": "80821fea",
   "metadata": {
    "ExecuteTime": {
     "end_time": "2021-05-12T07:49:40.115632Z",
     "start_time": "2021-05-12T07:49:40.083851Z"
    }
   },
   "outputs": [],
   "source": [
    "king.shape"
   ]
  },
  {
   "cell_type": "code",
   "execution_count": null,
   "id": "7f41e255",
   "metadata": {},
   "outputs": [],
   "source": []
  }
 ],
 "metadata": {
  "kernelspec": {
   "display_name": "Python 3",
   "language": "python",
   "name": "python3"
  },
  "language_info": {
   "codemirror_mode": {
    "name": "ipython",
    "version": 3
   },
   "file_extension": ".py",
   "mimetype": "text/x-python",
   "name": "python",
   "nbconvert_exporter": "python",
   "pygments_lexer": "ipython3",
   "version": "3.8.9"
  },
  "toc": {
   "base_numbering": 1,
   "nav_menu": {},
   "number_sections": true,
   "sideBar": true,
   "skip_h1_title": true,
   "title_cell": "Table of Contents",
   "title_sidebar": "Contents",
   "toc_cell": false,
   "toc_position": {},
   "toc_section_display": true,
   "toc_window_display": true
  }
 },
 "nbformat": 4,
 "nbformat_minor": 5
}
