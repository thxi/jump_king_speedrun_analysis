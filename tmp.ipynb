{
 "cells": [
  {
   "cell_type": "code",
   "execution_count": 1,
   "id": "c462bc7a",
   "metadata": {
    "ExecuteTime": {
     "end_time": "2021-05-16T15:40:27.355124Z",
     "start_time": "2021-05-16T15:40:26.626219Z"
    }
   },
   "outputs": [],
   "source": [
    "import pandas as pd\n",
    "import numpy as np\n",
    "import matplotlib.pyplot as plt\n",
    "import seaborn as sns\n",
    "\n",
    "sns.set()\n",
    "\n",
    "sns.set_style(\"whitegrid\", {'axes.grid' : False})\n",
    "\n",
    "from tqdm.auto import tqdm"
   ]
  },
  {
   "cell_type": "code",
   "execution_count": 2,
   "id": "1530ab9d",
   "metadata": {
    "ExecuteTime": {
     "end_time": "2021-05-16T15:40:27.368705Z",
     "start_time": "2021-05-16T15:40:27.356359Z"
    }
   },
   "outputs": [],
   "source": [
    "%load_ext autoreload\n",
    "%autoreload 2"
   ]
  },
  {
   "cell_type": "code",
   "execution_count": 3,
   "id": "261cc434",
   "metadata": {
    "ExecuteTime": {
     "end_time": "2021-05-16T15:40:27.391763Z",
     "start_time": "2021-05-16T15:40:27.369805Z"
    }
   },
   "outputs": [],
   "source": [
    "import cv2\n",
    "import imutils\n",
    "import pickle"
   ]
  },
  {
   "cell_type": "code",
   "execution_count": 4,
   "id": "f6955002",
   "metadata": {
    "ExecuteTime": {
     "end_time": "2021-05-16T15:40:27.404681Z",
     "start_time": "2021-05-16T15:40:27.392918Z"
    }
   },
   "outputs": [],
   "source": [
    "from utils.utils import crop_margins, dist, get_game_margins, open_video\n",
    "from utils.detect_king import get_king_positions\n",
    "from utils.map_frames import map_frames\n",
    "from utils.screen_to_frame import get_screen_to_frame\n",
    "from utils.heatmap import make_heatmap"
   ]
  },
  {
   "cell_type": "code",
   "execution_count": 5,
   "id": "edcc6157",
   "metadata": {
    "ExecuteTime": {
     "end_time": "2021-05-16T15:40:27.455630Z",
     "start_time": "2021-05-16T15:40:27.445057Z"
    }
   },
   "outputs": [],
   "source": [
    "screen_to_frame = pickle.load(open(\"data/screen_to_frame.p\", \"rb\"))\n",
    "# screen_to_frame = np.array([v.ravel() for v in screen_to_frame.values()])"
   ]
  },
  {
   "cell_type": "code",
   "execution_count": null,
   "id": "4398cf18",
   "metadata": {
    "ExecuteTime": {
     "end_time": "2021-05-14T12:23:07.229673Z",
     "start_time": "2021-05-14T12:23:01.692286Z"
    }
   },
   "outputs": [],
   "source": [
    "# check if all screens are present\n",
    "\n",
    "fig, axs = plt.subplots(figsize=(16, 96))\n",
    "\n",
    "for i, s in tqdm(enumerate(screen_to_frame.values())):\n",
    "    plt.title(f\"Screen {i}\")\n",
    "    plt.subplot(22, 2, i + 1)\n",
    "    plt.imshow(s)\n",
    "\n",
    "fig.tight_layout()"
   ]
  },
  {
   "cell_type": "code",
   "execution_count": null,
   "id": "e0d3e979",
   "metadata": {},
   "outputs": [],
   "source": []
  },
  {
   "cell_type": "code",
   "execution_count": null,
   "id": "c8b42b30",
   "metadata": {},
   "outputs": [],
   "source": []
  },
  {
   "cell_type": "code",
   "execution_count": 42,
   "id": "4c85977f",
   "metadata": {
    "ExecuteTime": {
     "end_time": "2021-05-16T16:08:16.226279Z",
     "start_time": "2021-05-16T16:08:16.199185Z"
    }
   },
   "outputs": [],
   "source": [
    "n = 140"
   ]
  },
  {
   "cell_type": "code",
   "execution_count": 43,
   "id": "63b62468",
   "metadata": {
    "ExecuteTime": {
     "end_time": "2021-05-16T16:08:38.356205Z",
     "start_time": "2021-05-16T16:08:24.436215Z"
    }
   },
   "outputs": [],
   "source": [
    "for i in range(n):\n",
    "    ret, frame = cap.read()\n",
    "    if not (ret):\n",
    "        print(\"something went wrong\")\n",
    "        exit(1)\n",
    "\n",
    "    cv2.imshow('Frame', frame)\n",
    "\n",
    "    k = cv2.waitKey(100) & 0xFF\n",
    "    # q to exit\n",
    "    if k == ord('q'):\n",
    "        break\n",
    "\n",
    "cv2.destroyAllWindows()"
   ]
  },
  {
   "cell_type": "code",
   "execution_count": null,
   "id": "a376760d",
   "metadata": {},
   "outputs": [],
   "source": []
  },
  {
   "cell_type": "code",
   "execution_count": null,
   "id": "7d69e4d3",
   "metadata": {
    "ExecuteTime": {
     "end_time": "2021-05-12T13:05:09.818987Z",
     "start_time": "2021-05-12T13:05:09.789306Z"
    }
   },
   "outputs": [],
   "source": [
    "cap.release()"
   ]
  },
  {
   "cell_type": "markdown",
   "id": "0e61f125",
   "metadata": {},
   "source": [
    "what am i going to present:\n",
    "\n",
    "width 60 of every video\n",
    "\n",
    "last screen corner case\n",
    "detect not continuous video corner case\n",
    "\n",
    "find global position of game on screen\n",
    "* detect the black line on top\n",
    "    \n",
    "* heatmap:\n",
    "    * array of coordinates\n",
    "    * for each frame\n",
    "    * screen = frame_to_screen(i) # offset?\n",
    "    * background = screen_to_frame[screen]\n",
    "    * detect king\n",
    "    * screen_to_positions = {screen: [[x, y]]}\n",
    "    * after:\n",
    "    * for each screen\n",
    "    * make a heatmap\n",
    "    * https://github.com/TobiasRoeddiger/GazePointHeatMap/blob/master/gazeheatplot.py\n",
    "    * https://stackoverflow.com/questions/2369492/generate-a-heatmap-in-matplotlib-using-a-scatter-data-set\n",
    "    * rgba to make transparent\n",
    "* statistical\n",
    "    * screentime\n",
    "    * number of falls (12-13 screens)\n",
    "    * number of total falls\n",
    "* corner cases\n",
    "    \n",
    "\n",
    "pipeline:\n",
    "* map_screens.py and screen_to_frame.py for static files\n",
    "* map_frames(filename, screen_to_frame)\n",
    "* for each screen in screen to frames detect motion"
   ]
  },
  {
   "cell_type": "markdown",
   "id": "e0554bf4",
   "metadata": {},
   "source": [
    "https://www.sicara.ai/blog/en/object-detection-template-matching"
   ]
  },
  {
   "cell_type": "markdown",
   "id": "c1d24151",
   "metadata": {},
   "source": [
    "https://debuggercafe.com/moving-object-detection-using-frame-differencing-with-opencv/"
   ]
  },
  {
   "cell_type": "markdown",
   "id": "70d87d72",
   "metadata": {},
   "source": [
    "https://towardsdatascience.com/build-a-motion-heatmap-videousing-opencv-with-python-fd806e8a2340"
   ]
  },
  {
   "cell_type": "markdown",
   "id": "21eaba69",
   "metadata": {},
   "source": [
    "https://github.com/kjw0612/awesome-deep-vision#imagenet-classification"
   ]
  },
  {
   "cell_type": "markdown",
   "id": "1455fc26",
   "metadata": {},
   "source": [
    "https://www.pyimagesearch.com/2015/05/25/basic-motion-detection-and-tracking-with-python-and-opencv/"
   ]
  },
  {
   "cell_type": "code",
   "execution_count": null,
   "id": "14820b74",
   "metadata": {},
   "outputs": [],
   "source": []
  },
  {
   "cell_type": "code",
   "execution_count": null,
   "id": "b368e1ea",
   "metadata": {},
   "outputs": [],
   "source": []
  },
  {
   "cell_type": "code",
   "execution_count": null,
   "id": "12bd4b19",
   "metadata": {},
   "outputs": [],
   "source": []
  }
 ],
 "metadata": {
  "kernelspec": {
   "display_name": "Python 3",
   "language": "python",
   "name": "python3"
  },
  "language_info": {
   "codemirror_mode": {
    "name": "ipython",
    "version": 3
   },
   "file_extension": ".py",
   "mimetype": "text/x-python",
   "name": "python",
   "nbconvert_exporter": "python",
   "pygments_lexer": "ipython3",
   "version": "3.8.9"
  },
  "toc": {
   "base_numbering": 1,
   "nav_menu": {},
   "number_sections": true,
   "sideBar": true,
   "skip_h1_title": true,
   "title_cell": "Table of Contents",
   "title_sidebar": "Contents",
   "toc_cell": false,
   "toc_position": {},
   "toc_section_display": true,
   "toc_window_display": true
  }
 },
 "nbformat": 4,
 "nbformat_minor": 5
}
