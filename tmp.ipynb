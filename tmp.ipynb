{
 "cells": [
  {
   "cell_type": "code",
   "execution_count": 1,
   "id": "c462bc7a",
   "metadata": {
    "ExecuteTime": {
     "end_time": "2021-05-12T06:52:03.683210Z",
     "start_time": "2021-05-12T06:52:02.957289Z"
    }
   },
   "outputs": [],
   "source": [
    "import pandas as pd\n",
    "import numpy as np\n",
    "import matplotlib.pyplot as plt\n",
    "import seaborn as sns\n",
    "\n",
    "sns.set()\n",
    "\n",
    "sns.set_style(\"whitegrid\", {'axes.grid' : False})\n",
    "\n",
    "from tqdm.auto import tqdm"
   ]
  },
  {
   "cell_type": "code",
   "execution_count": 2,
   "id": "1530ab9d",
   "metadata": {
    "ExecuteTime": {
     "end_time": "2021-05-12T06:52:03.699996Z",
     "start_time": "2021-05-12T06:52:03.684387Z"
    }
   },
   "outputs": [],
   "source": [
    "%load_ext autoreload\n",
    "%autoreload 2"
   ]
  },
  {
   "cell_type": "code",
   "execution_count": 3,
   "id": "261cc434",
   "metadata": {
    "ExecuteTime": {
     "end_time": "2021-05-12T06:52:03.729242Z",
     "start_time": "2021-05-12T06:52:03.701940Z"
    }
   },
   "outputs": [],
   "source": [
    "import cv2\n",
    "import imutils\n",
    "import pickle"
   ]
  },
  {
   "cell_type": "code",
   "execution_count": 65,
   "id": "f6955002",
   "metadata": {
    "ExecuteTime": {
     "end_time": "2021-05-12T07:45:52.649387Z",
     "start_time": "2021-05-12T07:45:52.622151Z"
    }
   },
   "outputs": [],
   "source": [
    "from utils.utils import open_video, crop_margins, map_frames, get_game_margins"
   ]
  },
  {
   "cell_type": "code",
   "execution_count": 7,
   "id": "edcc6157",
   "metadata": {
    "ExecuteTime": {
     "end_time": "2021-05-12T06:52:54.941829Z",
     "start_time": "2021-05-12T06:52:54.915277Z"
    }
   },
   "outputs": [],
   "source": [
    "screen_to_frame = pickle.load(open(\"data/screen_to_frame.p\", \"rb\"))\n",
    "# screen_to_frame = np.array([v.ravel() for v in screen_to_frame.values()])"
   ]
  },
  {
   "cell_type": "code",
   "execution_count": null,
   "id": "4398cf18",
   "metadata": {
    "ExecuteTime": {
     "end_time": "2021-05-12T06:40:10.582017Z",
     "start_time": "2021-05-12T06:40:05.042543Z"
    }
   },
   "outputs": [],
   "source": [
    "# check if all screens are present\n",
    "\n",
    "fig, axs = plt.subplots(figsize=(16, 96))\n",
    "\n",
    "for i, s in tqdm(enumerate(screen_to_frame.values())):\n",
    "    plt.title(f\"Screen {i}\")\n",
    "    plt.subplot(22, 2, i + 1)\n",
    "    plt.imshow(s)\n",
    "\n",
    "fig.tight_layout()"
   ]
  },
  {
   "cell_type": "code",
   "execution_count": null,
   "id": "f987e84b",
   "metadata": {},
   "outputs": [],
   "source": []
  },
  {
   "cell_type": "markdown",
   "id": "0e61f125",
   "metadata": {},
   "source": [
    "what am i going to present:\n",
    "\n",
    "width 60 of every video\n",
    "\n",
    "last screen corner case\n",
    "detect not continuous video corner\n",
    "\n",
    "find global position of game on screen\n",
    "* calculate the number of unique pixels from the middle\n",
    "* or KISS, detect the black line on top\n",
    "\n",
    "time spent on each screen\n",
    "* detect the screen using nearest neighbor\n",
    "* get dictionary `{screen: [frames]}`\n",
    "* for each screen calculate the proportion to the total time since start speedrun\n",
    "\n",
    "heatmap of each screen\n",
    "* detect the screen\n",
    "* detect the kings location (relative to screen and absolute coordinates)\n",
    "    * one shot object detection\n",
    "    * opencv template matching\n",
    "    * moving object detection (if does not move => previous location)\n",
    "* produce heatmap\n",
    "\n",
    "pipeline:\n",
    "* map_screens.py and screen_to_frame.py for static files\n",
    "* map_frames(filename, screen_to_frame)\n",
    "* for each screen in screen to frames detect motion"
   ]
  },
  {
   "cell_type": "markdown",
   "id": "e0554bf4",
   "metadata": {},
   "source": [
    "https://www.sicara.ai/blog/en/object-detection-template-matching"
   ]
  },
  {
   "cell_type": "markdown",
   "id": "c1d24151",
   "metadata": {},
   "source": [
    "https://debuggercafe.com/moving-object-detection-using-frame-differencing-with-opencv/"
   ]
  },
  {
   "cell_type": "markdown",
   "id": "70d87d72",
   "metadata": {},
   "source": [
    "https://towardsdatascience.com/build-a-motion-heatmap-videousing-opencv-with-python-fd806e8a2340"
   ]
  },
  {
   "cell_type": "markdown",
   "id": "21eaba69",
   "metadata": {},
   "source": [
    "https://github.com/kjw0612/awesome-deep-vision#imagenet-classification"
   ]
  },
  {
   "cell_type": "markdown",
   "id": "f647c81f",
   "metadata": {},
   "source": [
    "-"
   ]
  },
  {
   "cell_type": "markdown",
   "id": "1455fc26",
   "metadata": {},
   "source": [
    "https://www.pyimagesearch.com/2015/05/25/basic-motion-detection-and-tracking-with-python-and-opencv/"
   ]
  },
  {
   "cell_type": "code",
   "execution_count": null,
   "id": "71db5bee",
   "metadata": {},
   "outputs": [],
   "source": [
    "screen_to_frame = pickle.load(open(\"data/screen_to_frame.p\", \"rb\"))\n",
    "screen_to_frame = np.array([v.ravel() for v in screen_to_frame.values()])"
   ]
  },
  {
   "cell_type": "code",
   "execution_count": 44,
   "id": "3377eb98",
   "metadata": {
    "ExecuteTime": {
     "end_time": "2021-05-12T07:14:17.749956Z",
     "start_time": "2021-05-12T07:14:05.825829Z"
    },
    "scrolled": true
   },
   "outputs": [
    {
     "name": "stdout",
     "output_type": "stream",
     "text": [
      "getting video start\n"
     ]
    },
    {
     "data": {
      "application/vnd.jupyter.widget-view+json": {
       "model_id": "",
       "version_major": 2,
       "version_minor": 0
      },
      "text/plain": [
       "  0%|          | 0/11277 [00:00<?, ?it/s]"
      ]
     },
     "metadata": {},
     "output_type": "display_data"
    },
    {
     "name": "stdout",
     "output_type": "stream",
     "text": [
      "video starts at frame 325\n",
      "mapping screens\n"
     ]
    },
    {
     "data": {
      "application/vnd.jupyter.widget-view+json": {
       "model_id": "",
       "version_major": 2,
       "version_minor": 0
      },
      "text/plain": [
       "  0%|          | 0/10952 [00:00<?, ?it/s]"
      ]
     },
     "metadata": {},
     "output_type": "display_data"
    },
    {
     "name": "stdout",
     "output_type": "stream",
     "text": [
      "done mapping screens\n"
     ]
    }
   ],
   "source": [
    "screen_to_frames, frame_to_screen = map_frames('data/speedrun_side.mp4', screen_to_frame)"
   ]
  },
  {
   "cell_type": "code",
   "execution_count": 89,
   "id": "330b3c00",
   "metadata": {
    "ExecuteTime": {
     "end_time": "2021-05-12T07:47:23.018517Z",
     "start_time": "2021-05-12T07:47:22.973462Z"
    }
   },
   "outputs": [
    {
     "data": {
      "text/plain": [
       "True"
      ]
     },
     "execution_count": 89,
     "metadata": {},
     "output_type": "execute_result"
    }
   ],
   "source": [
    "cap = open_video('data/speedrun_side.mp4')\n",
    "margin_left, margin_right = get_game_margins(cap)\n",
    "cap.set(cv2.CAP_PROP_POS_FRAMES, 0)"
   ]
  },
  {
   "cell_type": "code",
   "execution_count": 90,
   "id": "739b4f8c",
   "metadata": {
    "ExecuteTime": {
     "end_time": "2021-05-12T07:47:23.174266Z",
     "start_time": "2021-05-12T07:47:23.151541Z"
    }
   },
   "outputs": [
    {
     "data": {
      "text/plain": [
       "True"
      ]
     },
     "execution_count": 90,
     "metadata": {},
     "output_type": "execute_result"
    }
   ],
   "source": [
    "s = screen_to_frames[0][0]\n",
    "n = s[1] - s[0]\n",
    "cap.set(cv2.CAP_PROP_POS_FRAMES, s[0])"
   ]
  },
  {
   "cell_type": "code",
   "execution_count": 91,
   "id": "546aacd9",
   "metadata": {
    "ExecuteTime": {
     "end_time": "2021-05-12T07:47:30.905323Z",
     "start_time": "2021-05-12T07:47:23.330411Z"
    }
   },
   "outputs": [
    {
     "data": {
      "application/vnd.jupyter.widget-view+json": {
       "model_id": "eba4ec05ae7c401ea27a5f6c9e7188f7",
       "version_major": 2,
       "version_minor": 0
      },
      "text/plain": [
       "  0%|          | 0/166 [00:00<?, ?it/s]"
      ]
     },
     "metadata": {},
     "output_type": "display_data"
    }
   ],
   "source": [
    "ret, frame = cap.read()\n",
    "if ret == False:\n",
    "    print(\"error\")\n",
    "    \n",
    "frame = crop_margins(frame, margin_left, margin_right)\n",
    "frame = imutils.resize(frame, width=60)\n",
    "frame = cv2.cvtColor(frame, cv2.COLOR_BGR2GRAY)\n",
    "first = frame\n",
    "\n",
    "for i in tqdm(range(n-1)):\n",
    "    ret, frame = cap.read()\n",
    "    if ret == False:\n",
    "        print(\"error\")\n",
    "        break\n",
    "    frame = crop_margins(frame, margin_left, margin_right)\n",
    "    frame = imutils.resize(frame, width=60)\n",
    "    frame = cv2.cvtColor(frame, cv2.COLOR_BGR2GRAY)\n",
    "    frameDelta = cv2.absdiff(first, frame)\n",
    "    cv2.imshow(\"CallingCamera View\", frameDelta)\n",
    "    k = cv2.waitKey(40) & 0xFF\n",
    "    if k == ord('q'):\n",
    "        break\n",
    "        \n",
    "\n",
    "cv2.destroyAllWindows()"
   ]
  },
  {
   "cell_type": "code",
   "execution_count": 92,
   "id": "07803007",
   "metadata": {
    "ExecuteTime": {
     "end_time": "2021-05-12T07:47:30.940415Z",
     "start_time": "2021-05-12T07:47:30.912273Z"
    }
   },
   "outputs": [],
   "source": [
    "cap.release()"
   ]
  },
  {
   "cell_type": "markdown",
   "id": "4fc9c005",
   "metadata": {},
   "source": [
    "detect something like a box\n",
    "\n",
    "if cannot => previous position\n",
    "\n",
    "corner case first stage"
   ]
  },
  {
   "cell_type": "code",
   "execution_count": null,
   "id": "b368e1ea",
   "metadata": {},
   "outputs": [],
   "source": []
  },
  {
   "cell_type": "code",
   "execution_count": 93,
   "id": "1aab04fa",
   "metadata": {
    "ExecuteTime": {
     "end_time": "2021-05-12T07:49:37.343847Z",
     "start_time": "2021-05-12T07:49:37.313636Z"
    }
   },
   "outputs": [],
   "source": [
    "king = cv2.imread('data/king.webp')"
   ]
  },
  {
   "cell_type": "code",
   "execution_count": 94,
   "id": "6d53f6ed",
   "metadata": {
    "ExecuteTime": {
     "end_time": "2021-05-12T07:49:37.777914Z",
     "start_time": "2021-05-12T07:49:37.629284Z"
    }
   },
   "outputs": [
    {
     "data": {
      "text/plain": [
       "<matplotlib.image.AxesImage at 0x7f260b2fae50>"
      ]
     },
     "execution_count": 94,
     "metadata": {},
     "output_type": "execute_result"
    },
    {
     "data": {
      "image/png": "[encoded data removed]",
      "text/plain": [
       "<Figure size 432x288 with 1 Axes>"
      ]
     },
     "metadata": {},
     "output_type": "display_data"
    }
   ],
   "source": [
    "plt.imshow(king)"
   ]
  },
  {
   "cell_type": "code",
   "execution_count": 95,
   "id": "80821fea",
   "metadata": {
    "ExecuteTime": {
     "end_time": "2021-05-12T07:49:40.115632Z",
     "start_time": "2021-05-12T07:49:40.083851Z"
    }
   },
   "outputs": [
    {
     "data": {
      "text/plain": [
       "(148, 148, 3)"
      ]
     },
     "execution_count": 95,
     "metadata": {},
     "output_type": "execute_result"
    }
   ],
   "source": [
    "king.shape"
   ]
  },
  {
   "cell_type": "code",
   "execution_count": null,
   "id": "7f41e255",
   "metadata": {},
   "outputs": [],
   "source": []
  }
 ],
 "metadata": {
  "kernelspec": {
   "display_name": "Python 3",
   "language": "python",
   "name": "python3"
  },
  "language_info": {
   "codemirror_mode": {
    "name": "ipython",
    "version": 3
   },
   "file_extension": ".py",
   "mimetype": "text/x-python",
   "name": "python",
   "nbconvert_exporter": "python",
   "pygments_lexer": "ipython3",
   "version": "3.8.9"
  },
  "toc": {
   "base_numbering": 1,
   "nav_menu": {},
   "number_sections": true,
   "sideBar": true,
   "skip_h1_title": true,
   "title_cell": "Table of Contents",
   "title_sidebar": "Contents",
   "toc_cell": false,
   "toc_position": {},
   "toc_section_display": true,
   "toc_window_display": true
  }
 },
 "nbformat": 4,
 "nbformat_minor": 5
}
